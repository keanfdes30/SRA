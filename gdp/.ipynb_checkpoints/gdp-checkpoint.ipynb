{
 "cells": [
  {
   "cell_type": "code",
   "execution_count": 1,
   "id": "c872f005-497c-4987-94ea-7c98d7a59eab",
   "metadata": {},
   "outputs": [],
   "source": [
    "import pandas as pd\n",
    "import numpy as np"
   ]
  },
  {
   "cell_type": "code",
   "execution_count": 2,
   "id": "6c319ee5-04a7-4443-8f5c-65c798f0837b",
   "metadata": {},
   "outputs": [
    {
     "name": "stdout",
     "output_type": "stream",
     "text": [
      "  ISO code               Country Variable code  \\\n",
      "0      AGO                Angola         cgdpe   \n",
      "1      ALB               Albania         cgdpe   \n",
      "2      ARE  United Arab Emirates         cgdpe   \n",
      "3      ARG             Argentina         cgdpe   \n",
      "4      ARM               Armenia         cgdpe   \n",
      "\n",
      "                                       Variable name         1950  \\\n",
      "0  Expenditure-side real GDP at current PPPs (in ...          NaN   \n",
      "1  Expenditure-side real GDP at current PPPs (in ...          NaN   \n",
      "2  Expenditure-side real GDP at current PPPs (in ...          NaN   \n",
      "3  Expenditure-side real GDP at current PPPs (in ...  49204.30078   \n",
      "4  Expenditure-side real GDP at current PPPs (in ...          NaN   \n",
      "\n",
      "          1951         1952         1953         1954         1955  ...  \\\n",
      "0          NaN          NaN          NaN          NaN          NaN  ...   \n",
      "1          NaN          NaN          NaN          NaN          NaN  ...   \n",
      "2          NaN          NaN          NaN          NaN          NaN  ...   \n",
      "3  51548.02734  46790.66016  48639.13672  50798.34766  55253.87891  ...   \n",
      "4          NaN          NaN          NaN          NaN          NaN  ...   \n",
      "\n",
      "           2010          2011          2012          2013          2014  \\\n",
      "0  140977.26560  186079.39060  206875.81250  215701.43750  232654.57810   \n",
      "1   29598.83984   29951.07617   30658.04492   29918.08008   31048.10742   \n",
      "2  574256.81250  674077.81250  682172.06250  669968.68750  692457.43750   \n",
      "3  777507.56250  879071.81250  885093.06250  893109.31250  870641.06250   \n",
      "4   23612.20313   26247.55078   29876.75586   30038.04102   29212.28711   \n",
      "\n",
      "           2015          2016          2017          2018          2019  \n",
      "0  215561.93750  210500.98440  2.233267e+05  2.395008e+05  227771.60940  \n",
      "1   31924.98047   32107.82227  3.384216e+04  3.520486e+04   35808.34375  \n",
      "2  634110.43750  623081.12500  6.473605e+05  6.390479e+05  678241.18750  \n",
      "3  906909.68750  904730.87500  1.026128e+06  1.025747e+06  991465.43750  \n",
      "4   31134.79492   31757.77344  3.633720e+04  3.756077e+04   41045.19141  \n",
      "\n",
      "[5 rows x 74 columns]\n"
     ]
    }
   ],
   "source": [
    "df = pd.read_csv('filtered_gdp.csv')\n",
    "\n",
    "# Display the first few rows of the DataFrame\n",
    "print(df.head())"
   ]
  },
  {
   "cell_type": "code",
   "execution_count": 3,
   "id": "9d3658b7-8879-42c0-8f13-a074045892d2",
   "metadata": {},
   "outputs": [],
   "source": [
    "gdp_columns = df.columns.difference(['ISO code', 'Country', 'Variable code', 'Variable name'])\n",
    "\n",
    "# Select only the GDP data for the United States\n",
    "gdp_data = df[gdp_columns]\n",
    "\n",
    "# Convert the GDP data to numeric, forcing any errors to NaN\n",
    "gdp_data = gdp_data.apply(pd.to_numeric, errors='coerce')\n",
    "\n",
    "# Display the new DataFrame\n",
    "max_gdp = gdp_data.max(axis=1).values[0]\n",
    "min_gdp = gdp_data.min(axis=1).values[0]\n"
   ]
  },
  {
   "cell_type": "code",
   "execution_count": 4,
   "id": "2977e5c0-2669-456f-856c-6c84a5095670",
   "metadata": {},
   "outputs": [],
   "source": [
    "year_columns = df.columns[4:]\n",
    "# Calculate the logarithm of the GDP values\n",
    "log_gdp = np.log(df[year_columns])\n",
    "\n",
    "# Calculate the difference in logs (log(GDP_t) - log(GDP_{t-1}))\n",
    "log_diff = log_gdp.diff(axis=1)\n",
    "\n",
    "log_diff = log_diff.drop(log_diff.columns[0], axis=1)\n",
    "\n",
    "# Rename columns to indicate they are log differences\n",
    "log_diff.columns = [f'log_diff_{col}' for col in log_diff.columns]\n",
    "\n",
    "# Combine with original DataFrame\n",
    "df_combined = pd.concat([df.iloc[:, :4], log_diff], axis=1)\n",
    "# Display the new DataFrame\n",
    "max_gdp1 = log_diff.max(axis=1).values[0]\n",
    "min_gdp1 = log_diff.min(axis=1).values[0]\n"
   ]
  },
  {
   "cell_type": "code",
   "execution_count": 5,
   "id": "6ccbbce0-19e1-4734-a646-156c07d74cbe",
   "metadata": {
    "scrolled": true
   },
   "outputs": [
    {
     "name": "stdout",
     "output_type": "stream",
     "text": [
      "Mean GDP change for Albania': 1    0.035771\n",
      "dtype: float64\n",
      "  ISO code               Country Variable code  \\\n",
      "0      AGO                Angola         cgdpe   \n",
      "1      ALB               Albania         cgdpe   \n",
      "2      ARE  United Arab Emirates         cgdpe   \n",
      "3      ARG             Argentina         cgdpe   \n",
      "4      ARM               Armenia         cgdpe   \n",
      "\n",
      "                                       Variable name  log_diff_1951  \\\n",
      "0  Expenditure-side real GDP at current PPPs (in ...            NaN   \n",
      "1  Expenditure-side real GDP at current PPPs (in ...            NaN   \n",
      "2  Expenditure-side real GDP at current PPPs (in ...            NaN   \n",
      "3  Expenditure-side real GDP at current PPPs (in ...       0.046533   \n",
      "4  Expenditure-side real GDP at current PPPs (in ...            NaN   \n",
      "\n",
      "   log_diff_1952  log_diff_1953  log_diff_1954  log_diff_1955  log_diff_1956  \\\n",
      "0            NaN            NaN            NaN            NaN            NaN   \n",
      "1            NaN            NaN            NaN            NaN            NaN   \n",
      "2            NaN            NaN            NaN            NaN            NaN   \n",
      "3       -0.09683       0.038745       0.043435       0.084075       0.018266   \n",
      "4            NaN            NaN            NaN            NaN            NaN   \n",
      "\n",
      "   ...  log_diff_2010  log_diff_2011  log_diff_2012  log_diff_2013  \\\n",
      "0  ...       0.343277       0.277575       0.105945       0.041777   \n",
      "1  ...       0.090397       0.011830       0.023330      -0.024432   \n",
      "2  ...       0.024627       0.160269       0.011936      -0.018051   \n",
      "3  ...       0.132156       0.122773       0.006826       0.009016   \n",
      "4  ...       0.083520       0.105809       0.129508       0.005384   \n",
      "\n",
      "   log_diff_2014  log_diff_2015  log_diff_2016  log_diff_2017  log_diff_2018  \\\n",
      "0       0.075660      -0.076307      -0.023758       0.059146       0.069921   \n",
      "1       0.037075       0.027851       0.005711       0.052608       0.039477   \n",
      "2       0.033016      -0.088024      -0.017546       0.038227      -0.012924   \n",
      "3      -0.025479       0.040813      -0.002405       0.125910      -0.000371   \n",
      "4      -0.027875       0.063737       0.019812       0.134704       0.033118   \n",
      "\n",
      "   log_diff_2019  \n",
      "0      -0.050213  \n",
      "1       0.016997  \n",
      "2       0.059524  \n",
      "3      -0.033992  \n",
      "4       0.088714  \n",
      "\n",
      "[5 rows x 73 columns]\n"
     ]
    }
   ],
   "source": [
    "test = \"Albania\"\n",
    "\n",
    "# Print the mean GDP for 'United States'\n",
    "print(f\"Mean GDP change for {test}': {df_combined[df_combined[\"Country\"] == test].iloc[:, 4:].mean(axis=1)}\")\n",
    "\n",
    "# # Display the resulting DataFrame\n",
    "print(df_combined.head())"
   ]
  },
  {
   "cell_type": "code",
   "execution_count": 6,
   "id": "f51beb14-b0fe-4979-aa9b-a4c4200f779d",
   "metadata": {},
   "outputs": [],
   "source": [
    "import matplotlib.pyplot as plt\n",
    "from scipy.stats import cauchy"
   ]
  },
  {
   "cell_type": "code",
   "execution_count": 7,
   "id": "ec1f1ea1-2130-428c-a47f-a840c4d114e6",
   "metadata": {},
   "outputs": [],
   "source": [
    "distributions = {}\n",
    "for country,data in df_combined.groupby('Country'):\n",
    "    values = data.iloc[:, 4:].values.flatten()\n",
    "    values = values[np.isfinite(values)]\n",
    "    params = cauchy.fit(values)\n",
    "    distributions[country] = [params[0],params[1], values.min(), values.max()]   \n"
   ]
  },
  {
   "cell_type": "code",
   "execution_count": 8,
   "id": "861e4926-ca19-492b-8dcf-751a24c22c4a",
   "metadata": {},
   "outputs": [
    {
     "name": "stdout",
     "output_type": "stream",
     "text": [
      "[0.04015352757187253, 0.022034147355667708, -0.25244803263174376, 0.20101411074678488]\n"
     ]
    }
   ],
   "source": [
    "print(distributions[\"Albania\"])"
   ]
  },
  {
   "cell_type": "code",
   "execution_count": 9,
   "id": "5b0bbb41-b85b-4979-979b-3555c1aa0c63",
   "metadata": {},
   "outputs": [
    {
     "name": "stdout",
     "output_type": "stream",
     "text": [
      "(0.04015352757187253, 0.022034147355667708)\n"
     ]
    },
    {
     "data": {
      "image/png": "[encoded data removed]",
      "text/plain": [
       "<Figure size 640x480 with 1 Axes>"
      ]
     },
     "metadata": {},
     "output_type": "display_data"
    }
   ],
   "source": [
    "Country =\"Albania\"\n",
    "data = distributions[Country]\n",
    "params = (data[0],data[1])\n",
    "min = data[2]\n",
    "max = data[3]\n",
    "print(params)\n",
    "# Generate a range of x values for the plot\n",
    "x = np.linspace(min, max, 1000)\n",
    "# Get the fitted Cauchy distribution's PDF\n",
    "pdf_fitted = cauchy.pdf(x, *params)\n",
    "\n",
    "# Plot the fitted Cauchy distribution\n",
    "plt.plot(x, pdf_fitted, 'r-', lw=2, label='Fitted Cauchy PDF')\n",
    "\n",
    "# Add labels and legend\n",
    "plt.xlabel('Log(GDP_t) - Log(GDP_{t-1})')\n",
    "plt.ylabel('Density')\n",
    "plt.title('Fitted Cauchy Distribution to Log Differences')\n",
    "plt.legend()\n",
    "\n",
    "# Show the plot\n",
    "plt.show()"
   ]
  },
  {
   "cell_type": "code",
   "execution_count": 14,
   "id": "c69bcec4-e7ce-4fc7-b9f8-3f317de3a4b3",
   "metadata": {
    "scrolled": true
   },
   "outputs": [
    {
     "name": "stdout",
     "output_type": "stream",
     "text": [
      "35808.34375\n"
     ]
    }
   ],
   "source": [
    "import csv\n",
    "import numpy as np\n",
    "import matplotlib.pyplot as plt\n",
    "\n",
    "\n",
    "# Function to compute the transformed Cauchy PDF\n",
    "def transformed_cauchy_pdf(y, GDP0, n, x0, gamma):\n",
    "    ln_term = np.log(y / GDP0)\n",
    "    return 1 / (np.pi * gamma * y * (1 + ((ln_term - n * x0) / gamma) ** 2))\n",
    "\n",
    "def get_transformed_cauchy_params(n, x0, gamma):\n",
    "    # Transformed location and scale\n",
    "    location = n * x0\n",
    "    scale = gamma\n",
    "    return location, scale\n",
    "\n",
    "# Parameters\n",
    "GDP0 = df[df[\"Country\"] == Country][\"2019\"].iloc[0]  # Initial GDP in million dollars\n",
    "x0 = params[0]  # Median growth rate (2%)\n",
    "gamma = params[1] # Scale parameter (1%)\n",
    "print(GDP0)\n",
    "\n",
    "# for country in df[\"Country\"]:\n",
    "#     # Plot PDFs for 1 to 5 future years\n",
    "with open('gdp_dist.csv', 'w') as csv_file:\n",
    "    writer = csv.writer(csv_file)\n",
    "    header = ['Country', 'Year', 'loc', 'sca', 'mode']\n",
    "    writer.writerow(header)\n",
    "    for n in range(1,82):  # Years 1 through 5\n",
    "        mode = GDP0 * np.exp(n * x0)  # Mode of the distribution for year n\n",
    "        y_values = np.linspace(mode / 2, mode * 2, 2000)\n",
    "        pdf_values = transformed_cauchy_pdf(y_values, GDP0, n, x0, gamma)\n",
    "        # Call the function and store the results\n",
    "        # location, scale = get_transformed_cauchy_params(n, x0, gamma)\n",
    "        writer.writerow([Country,2018+n,x0,gamma,mode])\n",
    "\n",
    "# # Customize the plot\n",
    "# plt.title('Probability Density Function of Future GDP Over Years')\n",
    "# plt.xlabel('Future GDP (million dollars)')\n",
    "# plt.ylabel('Probability Density')\n",
    "# # plt.legend()\n",
    "# plt.grid(True)\n",
    "\n",
    "# # Show the plot\n",
    "# plt.show()"
   ]
  }
 ],
 "metadata": {
  "kernelspec": {
   "display_name": "Python 3 (ipykernel)",
   "language": "python",
   "name": "python3"
  },
  "language_info": {
   "codemirror_mode": {
    "name": "ipython",
    "version": 3
   },
   "file_extension": ".py",
   "mimetype": "text/x-python",
   "name": "python",
   "nbconvert_exporter": "python",
   "pygments_lexer": "ipython3",
   "version": "3.12.3"
  }
 },
 "nbformat": 4,
 "nbformat_minor": 5
}
