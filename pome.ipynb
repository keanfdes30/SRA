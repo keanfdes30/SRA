{
 "cells": [
  {
   "cell_type": "code",
   "execution_count": 1,
   "id": "a24e7b66-f324-42d3-8e96-7beb9d33928d",
   "metadata": {},
   "outputs": [],
   "source": [
    "%matplotlib inline"
   ]
  },
  {
   "cell_type": "code",
   "execution_count": 2,
   "id": "0cb1f4c5-ba46-45d8-a43e-31896eee9c23",
   "metadata": {},
   "outputs": [],
   "source": [
    "import seaborn; seaborn.set_style('whitegrid')\n",
    "import torch"
   ]
  },
  {
   "cell_type": "code",
   "execution_count": 4,
   "id": "d969dbbd-28e9-416b-97e3-a96a2b6d4588",
   "metadata": {},
   "outputs": [],
   "source": [
    "import pomegranate"
   ]
  },
  {
   "cell_type": "code",
   "execution_count": 5,
   "id": "57e65d10-b632-4129-a544-fbec5edf3bcd",
   "metadata": {},
   "outputs": [],
   "source": [
    "import numpy as np"
   ]
  },
  {
   "cell_type": "code",
   "execution_count": 10,
   "id": "03ff3207-72aa-4b48-af57-f15b6c2b0cc1",
   "metadata": {},
   "outputs": [],
   "source": [
    "from pomegranate.distributions import Categorical\n",
    "from pomegranate.distributions import ConditionalCategorical\n",
    "from pomegranate.bayesian_network import BayesianNetwork\n",
    "\n",
    "d1 = Categorical([[0.1, 0.9]])\n",
    "d2 = ConditionalCategorical([[[0.4, 0.6], [0.3, 0.7]]])\n",
    "\n",
    "model = BayesianNetwork([d1, d2], [(d1, d2)])"
   ]
  },
  {
   "cell_type": "code",
   "execution_count": 11,
   "id": "0427fbaa-9318-4be4-aee7-4f3e094b32a6",
   "metadata": {},
   "outputs": [],
   "source": [
    "model2 = BayesianNetwork()\n",
    "model2.add_distributions([d1, d2])\n",
    "model2.add_edge(d1, d2)"
   ]
  },
  {
   "cell_type": "code",
   "execution_count": 13,
   "id": "93782818-4485-4964-96b7-6f7bab622018",
   "metadata": {},
   "outputs": [
    {
     "data": {
      "text/plain": [
       "array([[1, 1],\n",
       "       [1, 0],\n",
       "       [1, 1],\n",
       "       [1, 0],\n",
       "       [0, 0],\n",
       "       [0, 1],\n",
       "       [0, 1],\n",
       "       [1, 0],\n",
       "       [0, 1],\n",
       "       [0, 0]])"
      ]
     },
     "execution_count": 13,
     "metadata": {},
     "output_type": "execute_result"
    }
   ],
   "source": [
    "X = np.random.randint(2, size=(10, 2))\n",
    "X"
   ]
  },
  {
   "cell_type": "code",
   "execution_count": 14,
   "id": "08b3593c-3d87-4a29-8107-334796e3e75a",
   "metadata": {},
   "outputs": [
    {
     "data": {
      "text/plain": [
       "BayesianNetwork(\n",
       "  (distributions): ModuleList(\n",
       "    (0): Categorical()\n",
       "    (1): ConditionalCategorical(\n",
       "      (probs): ParameterList(  (0): Parameter containing: [torch.float32 of size 2x2])\n",
       "      (_w_sum): [tensor([0., 0.])]\n",
       "      (_xw_sum): [tensor([[0., 0.],\n",
       "              [0., 0.]])]\n",
       "      (_log_probs): [tensor([[-0.9163, -0.5108],\n",
       "              [-0.5108, -0.9163]])]\n",
       "    )\n",
       "  )\n",
       "  (_factor_graph): FactorGraph(\n",
       "    (factors): ModuleList(\n",
       "      (0): Categorical()\n",
       "      (1): JointCategorical()\n",
       "    )\n",
       "    (marginals): ModuleList(\n",
       "      (0-1): 2 x Categorical()\n",
       "    )\n",
       "  )\n",
       ")"
      ]
     },
     "execution_count": 14,
     "metadata": {},
     "output_type": "execute_result"
    }
   ],
   "source": [
    "model.fit(X)"
   ]
  },
  {
   "cell_type": "code",
   "execution_count": null,
   "id": "51217148-48c7-41af-a328-2a62a227b3a2",
   "metadata": {},
   "outputs": [],
   "source": []
  }
 ],
 "metadata": {
  "kernelspec": {
   "display_name": "Python 3 (ipykernel)",
   "language": "python",
   "name": "python3"
  },
  "language_info": {
   "codemirror_mode": {
    "name": "ipython",
    "version": 3
   },
   "file_extension": ".py",
   "mimetype": "text/x-python",
   "name": "python",
   "nbconvert_exporter": "python",
   "pygments_lexer": "ipython3",
   "version": "3.12.3"
  }
 },
 "nbformat": 4,
 "nbformat_minor": 5
}
